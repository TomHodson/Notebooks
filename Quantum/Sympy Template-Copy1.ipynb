{
 "cells": [
  {
   "cell_type": "code",
   "execution_count": 2,
   "metadata": {
    "collapsed": true
   },
   "outputs": [],
   "source": [
    "from sympy import *\n",
    "from IPython.display import display\n",
    "init_printing(use_latex='mathjax')\n",
    "%matplotlib inline"
   ]
  },
  {
   "cell_type": "code",
   "execution_count": 3,
   "metadata": {
    "collapsed": false
   },
   "outputs": [
    {
     "data": {
      "text/latex": [
       "$$\\left[\\begin{matrix}\\frac{\\sqrt{2}}{2} & \\frac{\\sqrt{2}}{2} & 0\\\\\\frac{\\sqrt{3}}{3} & - \\frac{\\sqrt{3}}{3} & \\frac{\\sqrt{3}}{3}\\\\\\frac{\\sqrt{6}}{6} & - \\frac{\\sqrt{6}}{6} & - \\frac{\\sqrt{6}}{3}\\end{matrix}\\right]$$"
      ],
      "text/plain": [
       "⎡  ___     ___          ⎤\n",
       "⎢╲╱ 2    ╲╱ 2           ⎥\n",
       "⎢─────   ─────      0   ⎥\n",
       "⎢  2       2            ⎥\n",
       "⎢                       ⎥\n",
       "⎢  ___     ___      ___ ⎥\n",
       "⎢╲╱ 3   -╲╱ 3     ╲╱ 3  ⎥\n",
       "⎢─────  ───────   ───── ⎥\n",
       "⎢  3       3        3   ⎥\n",
       "⎢                       ⎥\n",
       "⎢  ___     ___      ___ ⎥\n",
       "⎢╲╱ 6   -╲╱ 6    -╲╱ 6  ⎥\n",
       "⎢─────  ───────  ───────⎥\n",
       "⎣  6       6        3   ⎦"
      ]
     },
     "execution_count": 3,
     "metadata": {},
     "output_type": "execute_result"
    }
   ],
   "source": [
    "L2 = Matrix([[sqrt(3), sqrt(3), 0],\n",
    "            [sqrt(2), -sqrt(2), sqrt(2)],\n",
    "            [1, -1, -2]]) / sqrt(6)\n",
    "L2"
   ]
  },
  {
   "cell_type": "code",
   "execution_count": 4,
   "metadata": {
    "collapsed": false
   },
   "outputs": [
    {
     "data": {
      "text/latex": [
       "$$\\left[\\begin{matrix}1 & 0 & 0\\\\0 & 1 & 0\\\\0 & 0 & 1\\end{matrix}\\right]$$"
      ],
      "text/plain": [
       "⎡1  0  0⎤\n",
       "⎢       ⎥\n",
       "⎢0  1  0⎥\n",
       "⎢       ⎥\n",
       "⎣0  0  1⎦"
      ]
     },
     "execution_count": 4,
     "metadata": {},
     "output_type": "execute_result"
    }
   ],
   "source": [
    "I = Matrix([[1, 0, 0],\n",
    "          [0, 1, 0],\n",
    "          [0, 0, 1]])\n",
    "I"
   ]
  },
  {
   "cell_type": "code",
   "execution_count": 5,
   "metadata": {
    "collapsed": false
   },
   "outputs": [
    {
     "data": {
      "text/latex": [
       "$$\\left[\\begin{matrix}\\sqrt{3} & \\sqrt{2} & 1\\\\\\sqrt{3} & - \\sqrt{2} & -1\\\\0 & \\sqrt{2} & -2\\end{matrix}\\right]$$"
      ],
      "text/plain": [
       "⎡  ___    ___     ⎤\n",
       "⎢╲╱ 3   ╲╱ 2    1 ⎥\n",
       "⎢                 ⎥\n",
       "⎢  ___     ___    ⎥\n",
       "⎢╲╱ 3   -╲╱ 2   -1⎥\n",
       "⎢                 ⎥\n",
       "⎢         ___     ⎥\n",
       "⎣  0    ╲╱ 2    -2⎦"
      ]
     },
     "execution_count": 5,
     "metadata": {},
     "output_type": "execute_result"
    }
   ],
   "source": [
    "I3 = L2.T * I\n",
    "I3 * sqrt(6)"
   ]
  },
  {
   "cell_type": "code",
   "execution_count": 6,
   "metadata": {
    "collapsed": false
   },
   "outputs": [
    {
     "data": {
      "text/latex": [
       "$$\\left[\\begin{matrix}\\sqrt{6} + 3 & -2 + \\sqrt{2} + \\sqrt{6} & -2 - \\sqrt{2} + \\sqrt{3}\\\\- \\sqrt{6} + 3 & - \\sqrt{2} + 2 + \\sqrt{6} & \\sqrt{2} + \\sqrt{3} + 2\\\\\\sqrt{6} & - 2 \\sqrt{2} - 2 & - \\sqrt{2} + 4\\end{matrix}\\right]$$"
      ],
      "text/plain": [
       "⎡   ___              ___     ___          ___     ___⎤\n",
       "⎢ ╲╱ 6  + 3   -2 + ╲╱ 2  + ╲╱ 6    -2 - ╲╱ 2  + ╲╱ 3 ⎥\n",
       "⎢                                                    ⎥\n",
       "⎢    ___          ___         ___    ___     ___     ⎥\n",
       "⎢- ╲╱ 6  + 3  - ╲╱ 2  + 2 + ╲╱ 6   ╲╱ 2  + ╲╱ 3  + 2 ⎥\n",
       "⎢                                                    ⎥\n",
       "⎢     ___              ___                ___        ⎥\n",
       "⎣   ╲╱ 6         - 2⋅╲╱ 2  - 2        - ╲╱ 2  + 4    ⎦"
      ]
     },
     "execution_count": 6,
     "metadata": {},
     "output_type": "execute_result"
    }
   ],
   "source": [
    "I4 = I3 ** 2\n",
    "I4 * 6"
   ]
  },
  {
   "cell_type": "code",
   "execution_count": 7,
   "metadata": {
    "collapsed": false
   },
   "outputs": [
    {
     "data": {
      "text/latex": [
       "$$- \\frac{\\sqrt{6}}{3} - \\frac{\\sqrt{3}}{3} + \\frac{\\sqrt{2}}{2}$$"
      ],
      "text/plain": [
       "    ___     ___     ___\n",
       "  ╲╱ 6    ╲╱ 3    ╲╱ 2 \n",
       "- ───── - ───── + ─────\n",
       "    3       3       2  "
      ]
     },
     "execution_count": 7,
     "metadata": {},
     "output_type": "execute_result"
    }
   ],
   "source": [
    "(I3.trace()).simplify()"
   ]
  },
  {
   "cell_type": "code",
   "execution_count": 8,
   "metadata": {
    "collapsed": false
   },
   "outputs": [
    {
     "data": {
      "text/latex": [
       "$$\\left[\\begin{matrix}1 & 0 & 0\\\\0 & 1 & 0\\\\0 & 0 & 1\\end{matrix}\\right]$$"
      ],
      "text/plain": [
       "⎡1  0  0⎤\n",
       "⎢       ⎥\n",
       "⎢0  1  0⎥\n",
       "⎢       ⎥\n",
       "⎣0  0  1⎦"
      ]
     },
     "execution_count": 8,
     "metadata": {},
     "output_type": "execute_result"
    }
   ],
   "source": [
    "I"
   ]
  },
  {
   "cell_type": "code",
   "execution_count": 9,
   "metadata": {
    "collapsed": true
   },
   "outputs": [],
   "source": [
    "M = Matrix([[3, -1, 5],\n",
    "          [1, 0, 5],\n",
    "          [1, -5, 3]])"
   ]
  },
  {
   "cell_type": "code",
   "execution_count": 10,
   "metadata": {
    "collapsed": false
   },
   "outputs": [
    {
     "data": {
      "text/latex": [
       "$$\\left[\\begin{matrix}0 & -1.0 & 2.0\\\\1.0 & 0 & 5.0\\\\-2.0 & -5.0 & 0\\end{matrix}\\right]$$"
      ],
      "text/plain": [
       "⎡ 0    -1.0  2.0⎤\n",
       "⎢               ⎥\n",
       "⎢1.0    0    5.0⎥\n",
       "⎢               ⎥\n",
       "⎣-2.0  -5.0   0 ⎦"
      ]
     },
     "execution_count": 10,
     "metadata": {},
     "output_type": "execute_result"
    }
   ],
   "source": [
    "A = 1/2 * (M - M.T)\n",
    "A"
   ]
  },
  {
   "cell_type": "code",
   "execution_count": 11,
   "metadata": {
    "collapsed": false
   },
   "outputs": [
    {
     "data": {
      "text/latex": [
       "$$\\left[\\begin{matrix}3.0 & 0 & 3.0\\\\0 & 0 & 0\\\\3.0 & 0 & 3.0\\end{matrix}\\right]$$"
      ],
      "text/plain": [
       "⎡3.0  0  3.0⎤\n",
       "⎢           ⎥\n",
       "⎢ 0   0   0 ⎥\n",
       "⎢           ⎥\n",
       "⎣3.0  0  3.0⎦"
      ]
     },
     "execution_count": 11,
     "metadata": {},
     "output_type": "execute_result"
    }
   ],
   "source": [
    "S = 1/2 * (M + M.T)\n",
    "S"
   ]
  },
  {
   "cell_type": "code",
   "execution_count": 12,
   "metadata": {
    "collapsed": false
   },
   "outputs": [
    {
     "data": {
      "text/latex": [
       "$$\\left[\\begin{matrix}1.0 & 0 & 3.0\\\\0 & -2.0 & 0\\\\3.0 & 0 & 1.0\\end{matrix}\\right]$$"
      ],
      "text/plain": [
       "⎡1.0   0    3.0⎤\n",
       "⎢              ⎥\n",
       "⎢ 0   -2.0   0 ⎥\n",
       "⎢              ⎥\n",
       "⎣3.0   0    1.0⎦"
      ]
     },
     "execution_count": 12,
     "metadata": {},
     "output_type": "execute_result"
    }
   ],
   "source": [
    "St = S - 1/3 * S.trace() * I\n",
    "St"
   ]
  },
  {
   "cell_type": "code",
   "execution_count": 13,
   "metadata": {
    "collapsed": false
   },
   "outputs": [
    {
     "data": {
      "text/latex": [
       "$$\\left[\\begin{matrix}3.0 & -1.0 & 5.0\\\\1.0 & 0 & 5.0\\\\1.0 & -5.0 & 3.0\\end{matrix}\\right]$$"
      ],
      "text/plain": [
       "⎡3.0  -1.0  5.0⎤\n",
       "⎢              ⎥\n",
       "⎢1.0   0    5.0⎥\n",
       "⎢              ⎥\n",
       "⎣1.0  -5.0  3.0⎦"
      ]
     },
     "execution_count": 13,
     "metadata": {},
     "output_type": "execute_result"
    }
   ],
   "source": [
    "m = A + St + 1/3 * trace(S) * I\n",
    "m"
   ]
  },
  {
   "cell_type": "code",
   "execution_count": 14,
   "metadata": {
    "collapsed": false
   },
   "outputs": [
    {
     "data": {
      "text/latex": [
       "$$\\left[\\begin{matrix}2.0 & 0 & 0\\\\0 & 2.0 & 0\\\\0 & 0 & 2.0\\end{matrix}\\right]$$"
      ],
      "text/plain": [
       "⎡2.0   0    0 ⎤\n",
       "⎢             ⎥\n",
       "⎢ 0   2.0   0 ⎥\n",
       "⎢             ⎥\n",
       "⎣ 0    0   2.0⎦"
      ]
     },
     "execution_count": 14,
     "metadata": {},
     "output_type": "execute_result"
    }
   ],
   "source": [
    "1/3 * trace(S) * I"
   ]
  },
  {
   "cell_type": "code",
   "execution_count": 15,
   "metadata": {
    "collapsed": false
   },
   "outputs": [
    {
     "data": {
      "text/latex": [
       "$$1.24$$"
      ],
      "text/plain": [
       "1.24"
      ]
     },
     "execution_count": 15,
     "metadata": {},
     "output_type": "execute_result"
    }
   ],
   "source": [
    "2 - 0.76\n"
   ]
  },
  {
   "cell_type": "code",
   "execution_count": 16,
   "metadata": {
    "collapsed": false
   },
   "outputs": [
    {
     "data": {
      "text/latex": [
       "$$8.771666666666667$$"
      ],
      "text/plain": [
       "8.771666666666667"
      ]
     },
     "execution_count": 16,
     "metadata": {},
     "output_type": "execute_result"
    }
   ],
   "source": [
    "from scipy.constants import zero_Celsius as T0\n",
    "(T0 - 10) / 30"
   ]
  },
  {
   "cell_type": "code",
   "execution_count": 17,
   "metadata": {
    "collapsed": false
   },
   "outputs": [
    {
     "data": {
      "text/latex": [
       "$$2.0732198425773385$$"
      ],
      "text/plain": [
       "2.0732198425773385"
      ]
     },
     "execution_count": 17,
     "metadata": {},
     "output_type": "execute_result"
    }
   ],
   "source": [
    "(T0 + 10)/10 * 20 /(T0)"
   ]
  },
  {
   "cell_type": "code",
   "execution_count": 20,
   "metadata": {
    "collapsed": false
   },
   "outputs": [
    {
     "data": {
      "text/latex": [
       "$$2$$"
      ],
      "text/plain": [
       "2"
      ]
     },
     "execution_count": 20,
     "metadata": {},
     "output_type": "execute_result"
    }
   ],
   "source": [
    "theta = symbols(\"theta\")\n",
    "integrate(sin(theta), (theta, 0, pi))"
   ]
  },
  {
   "cell_type": "code",
   "execution_count": 45,
   "metadata": {
    "collapsed": false
   },
   "outputs": [],
   "source": [
    "r, z, a0 = symbols(\"r z a0\", real = True, postive = True)\n",
    "phi = 1/sqrt(pi) * (z/a0)**(3/2) * exp(-z*r/a0)"
   ]
  },
  {
   "cell_type": "code",
   "execution_count": 55,
   "metadata": {
    "collapsed": false
   },
   "outputs": [
    {
     "data": {
      "text/latex": [
       "$$- \\frac{\\hbar^{2} z \\left(\\frac{z}{a_{0}}\\right)^{1.5} e^{- \\frac{r z}{a_{0}}}}{2 \\sqrt{\\pi} a_{0}^{2} m r} \\left(- 2 a_{0} + r z\\right)$$"
      ],
      "text/plain": [
       "                              -r⋅z  \n",
       "           1.5                ───── \n",
       "   2   ⎛z ⎞                     a₀  \n",
       "-h̅ ⋅z⋅⎜──⎟   ⋅(-2⋅a₀ + r⋅z)⋅ℯ      \n",
       "       ⎝a₀⎠                         \n",
       "────────────────────────────────────\n",
       "              ___   2               \n",
       "          2⋅╲╱ π ⋅a₀ ⋅m⋅r           "
      ]
     },
     "execution_count": 55,
     "metadata": {},
     "output_type": "execute_result"
    }
   ],
   "source": [
    "#<r>\n",
    "hbar, m = symbols(\"hbar m\")\n",
    "Ephi = -hbar**2 / (2*m) * diff(r**2 * diff(phi, r), r) / r**2\n",
    "Ephi.factor()"
   ]
  },
  {
   "cell_type": "code",
   "execution_count": 54,
   "metadata": {
    "collapsed": false
   },
   "outputs": [
    {
     "data": {
      "text/latex": [
       "$$\\begin{cases} \\frac{a_{0} \\hbar^{2} \\left(\\frac{z}{a_{0}}\\right)^{3.0}}{2 m z} & \\text{for}\\: \\left\\lvert{\\operatorname{periodic_{argument}}{\\left (\\frac{\\operatorname{polar\\_lift}{\\left (z \\right )}}{\\operatorname{polar\\_lift}{\\left (a_{0} \\right )}},\\infty \\right )}}\\right\\rvert < \\frac{\\pi}{2} \\\\\\int_{0}^{\\infty} - \\frac{2 \\sqrt{\\pi}}{m} \\hbar^{2} \\left(\\frac{z}{a_{0}}\\right)^{1.5} \\left(- \\frac{2 r z \\left(\\frac{z}{a_{0}}\\right)^{1.5}}{\\sqrt{\\pi} a_{0}} e^{- \\frac{r z}{a_{0}}} + \\frac{r^{2} z^{2} \\left(\\frac{z}{a_{0}}\\right)^{1.5}}{\\sqrt{\\pi} a_{0}^{2}} e^{- \\frac{r z}{a_{0}}}\\right) e^{- \\frac{r z}{a_{0}}}\\, dr & \\text{otherwise} \\end{cases}$$"
      ],
      "text/plain": [
       "⎧                                            3.0                              \n",
       "⎪                                      2 ⎛z ⎞                                 \n",
       "⎪                                 a₀⋅h̅ ⋅⎜──⎟                                 \n",
       "⎪                                        ⎝a₀⎠                                 \n",
       "⎪                                 ──────────────                              \n",
       "⎪                                     2⋅m⋅z                                   \n",
       "⎪                                                                             \n",
       "⎪∞                                                                            \n",
       "⎪⌠                                                                            \n",
       "⎪⎮                      ⎛                 -r⋅z                   -r⋅z ⎞       \n",
       "⎨⎮                      ⎜            1.5  ─────             1.5  ─────⎟       \n",
       "⎪⎮                      ⎜        ⎛z ⎞       a₀     2  2 ⎛z ⎞       a₀ ⎟  -r⋅z \n",
       "⎪⎮                  1.5 ⎜  2⋅r⋅z⋅⎜──⎟   ⋅ℯ        r ⋅z ⋅⎜──⎟   ⋅ℯ     ⎟  ─────\n",
       "⎪⎮      ___   2 ⎛z ⎞    ⎜        ⎝a₀⎠                   ⎝a₀⎠          ⎟    a₀ \n",
       "⎪⎮ -2⋅╲╱ π ⋅h̅ ⋅⎜──⎟   ⋅⎜- ──────────────────── + ────────────────────⎟⋅ℯ     \n",
       "⎪⎮              ⎝a₀⎠    ⎜          ___                   ___   2      ⎟       \n",
       "⎪⎮                      ⎝        ╲╱ π ⋅a₀              ╲╱ π ⋅a₀       ⎠       \n",
       "⎪⎮ ───────────────────────────────────────────────────────────────────────────\n",
       "⎪⎮                                      m                                     \n",
       "⎪⌡                                                                            \n",
       "⎩0                                                                            \n",
       "\n",
       "                                                    \n",
       "                                                    \n",
       "                                                    \n",
       "          │                 ⎛polar_lift(z)    ⎞│   π\n",
       "      for │periodic_argument⎜──────────────, ∞⎟│ < ─\n",
       "          │                 ⎝polar_lift(a₀)   ⎠│   2\n",
       "                                                    \n",
       "                                                    \n",
       "                                                    \n",
       "                                                    \n",
       "                                                    \n",
       "                                                    \n",
       "                                                    \n",
       "                                                    \n",
       "                                                    \n",
       "                                                    \n",
       "                                                    \n",
       "─ dr                    otherwise                   \n",
       "                                                    \n",
       "                                                    \n",
       "                                                    "
      ]
     },
     "execution_count": 54,
     "metadata": {},
     "output_type": "execute_result"
    }
   ],
   "source": [
    "I = integrate( phi * 4*pi*r**2 * Ephi , (r, 0, oo) ).doit()\n",
    "I"
   ]
  },
  {
   "cell_type": "code",
   "execution_count": null,
   "metadata": {
    "collapsed": true
   },
   "outputs": [],
   "source": []
  }
 ],
 "metadata": {
  "kernelspec": {
   "display_name": "Python 3",
   "language": "python",
   "name": "python3"
  },
  "language_info": {
   "codemirror_mode": {
    "name": "ipython",
    "version": 3
   },
   "file_extension": ".py",
   "mimetype": "text/x-python",
   "name": "python",
   "nbconvert_exporter": "python",
   "pygments_lexer": "ipython3",
   "version": "3.5.1"
  }
 },
 "nbformat": 4,
 "nbformat_minor": 0
}

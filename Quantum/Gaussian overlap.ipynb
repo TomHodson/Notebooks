{
 "cells": [
  {
   "cell_type": "code",
   "execution_count": 2,
   "metadata": {
    "collapsed": true
   },
   "outputs": [],
   "source": [
    "from sympy import *\n",
    "from IPython.display import display\n",
    "init_printing(use_latex='mathjax')\n",
    "%matplotlib inline"
   ]
  },
  {
   "cell_type": "code",
   "execution_count": 16,
   "metadata": {
    "collapsed": false
   },
   "outputs": [
    {
     "data": {
      "text/latex": [
       "$$\\frac{\\sqrt{2}}{2 \\sqrt{\\pi} \\sigma_{1}} e^{- \\frac{\\left(- \\mu_{1} + x\\right)^{2}}{2 \\sigma_{1}^{2}}}$$"
      ],
      "text/plain": [
       "                 2 \n",
       "       -(-μ₁ + x)  \n",
       "       ────────────\n",
       "              2    \n",
       "  ___     2⋅σ₁     \n",
       "╲╱ 2 ⋅ℯ            \n",
       "───────────────────\n",
       "         ___       \n",
       "     2⋅╲╱ π ⋅σ₁    "
      ]
     },
     "execution_count": 16,
     "metadata": {},
     "output_type": "execute_result"
    }
   ],
   "source": [
    "def normal(x, mu, sigma):\n",
    "    return exp(-(x - mu)**2/(2*sigma**2))/(sigma*sqrt(2*pi))\n",
    "mu1, sigma1, x = symbols(\"mu_1 sigma_1 x\", real = True, positive = True)\n",
    "N1 = normal(x, mu1, sigma1)\n",
    "\n",
    "#check its normalised\n",
    "assert(integrate(N1, (x, -oo, oo) )  == 1)\n",
    "\n",
    "N1"
   ]
  },
  {
   "cell_type": "code",
   "execution_count": 21,
   "metadata": {
    "collapsed": false
   },
   "outputs": [
    {
     "data": {
      "text/latex": [
       "$$\\frac{\\sqrt{2}}{2 \\sqrt{\\pi} \\sigma_{2}} e^{- \\frac{\\left(- \\mu_{2} + x\\right)^{2}}{2 \\sigma_{2}^{2}}}$$"
      ],
      "text/plain": [
       "                 2 \n",
       "       -(-μ₂ + x)  \n",
       "       ────────────\n",
       "              2    \n",
       "  ___     2⋅σ₂     \n",
       "╲╱ 2 ⋅ℯ            \n",
       "───────────────────\n",
       "         ___       \n",
       "     2⋅╲╱ π ⋅σ₂    "
      ]
     },
     "execution_count": 21,
     "metadata": {},
     "output_type": "execute_result"
    }
   ],
   "source": [
    "mu2, sigma2 = symbols(\"mu_2 sigma_2\", real = True, positive = True)\n",
    "N2 = normal(x, mu2, sigma2)\n",
    "N2"
   ]
  },
  {
   "cell_type": "code",
   "execution_count": 22,
   "metadata": {
    "collapsed": false
   },
   "outputs": [
    {
     "data": {
      "text/latex": [
       "$$- \\frac{\\sigma_{1} e^{- \\frac{\\mu_{1}^{2}}{2 \\sigma_{1}^{2}} + \\frac{\\mu_{1} \\mu_{2}}{\\sigma_{1}^{2}} - \\frac{\\mu_{2}^{2}}{2 \\sigma_{1}^{2}}}}{2 \\pi^{\\frac{3}{2}} \\sigma_{2} \\left(\\mu_{1} - \\mu_{2}\\right)} \\left(- \\frac{\\pi \\sigma_{2} e^{\\frac{\\sigma_{2}^{2} \\left(\\mu_{1} - \\mu_{2}\\right)^{2}}{4 \\sigma_{1}^{2} \\left(\\frac{\\sigma_{1}^{2}}{2} + \\frac{\\sigma_{2}^{2}}{2}\\right)}}}{2 \\sigma_{1} \\sqrt{\\frac{\\sigma_{1}^{2}}{2} + \\frac{\\sigma_{2}^{2}}{2}}} \\left(\\mu_{1} - \\mu_{2}\\right) \\operatorname{erf}{\\left (\\frac{\\sigma_{2} \\left(\\mu_{1} - \\mu_{2}\\right)}{2 \\sigma_{1} \\sqrt{\\frac{\\sigma_{1}^{2}}{2} + \\frac{\\sigma_{2}^{2}}{2}}} \\right )} - \\frac{\\pi \\sigma_{2} e^{\\frac{\\sigma_{2}^{2} \\left(\\mu_{1} - \\mu_{2}\\right)^{2}}{4 \\sigma_{1}^{2} \\left(\\frac{\\sigma_{1}^{2}}{2} + \\frac{\\sigma_{2}^{2}}{2}\\right)}}}{2 \\sigma_{1} \\sqrt{\\frac{\\sigma_{1}^{2}}{2} + \\frac{\\sigma_{2}^{2}}{2}}} \\left(\\mu_{1} - \\mu_{2}\\right)\\right) - \\frac{\\sigma_{1} e^{- \\frac{\\mu_{1}^{2}}{2 \\sigma_{1}^{2}} + \\frac{\\mu_{1} \\mu_{2}}{\\sigma_{1}^{2}} - \\frac{\\mu_{2}^{2}}{2 \\sigma_{1}^{2}}}}{2 \\pi^{\\frac{3}{2}} \\sigma_{2} \\left(- \\mu_{1} + \\mu_{2}\\right)} \\left(- \\frac{\\pi \\sigma_{2}}{2 \\sigma_{1} \\sqrt{\\frac{\\sigma_{1}^{2}}{2} + \\frac{\\sigma_{2}^{2}}{2}}} \\left(- \\mu_{1} + \\mu_{2}\\right) e^{\\frac{\\sigma_{2}^{2} \\left(- \\mu_{1} + \\mu_{2}\\right)^{2}}{4 \\sigma_{1}^{2} \\left(\\frac{\\sigma_{1}^{2}}{2} + \\frac{\\sigma_{2}^{2}}{2}\\right)}} \\operatorname{erf}{\\left (\\frac{\\sigma_{2} \\left(- \\mu_{1} + \\mu_{2}\\right)}{2 \\sigma_{1} \\sqrt{\\frac{\\sigma_{1}^{2}}{2} + \\frac{\\sigma_{2}^{2}}{2}}} \\right )} - \\frac{\\pi \\sigma_{2}}{2 \\sigma_{1} \\sqrt{\\frac{\\sigma_{1}^{2}}{2} + \\frac{\\sigma_{2}^{2}}{2}}} \\left(- \\mu_{1} + \\mu_{2}\\right) e^{\\frac{\\sigma_{2}^{2} \\left(- \\mu_{1} + \\mu_{2}\\right)^{2}}{4 \\sigma_{1}^{2} \\left(\\frac{\\sigma_{1}^{2}}{2} + \\frac{\\sigma_{2}^{2}}{2}\\right)}}\\right)$$"
      ],
      "text/plain": [
       "     ⎛                      2          2                                      \n",
       "     ⎜                    σ₂ ⋅(μ₁ - μ₂)                                       \n",
       "     ⎜                  ─────────────────                                     \n",
       "     ⎜                        ⎛  2     2⎞                                     \n",
       "     ⎜                      2 ⎜σ₁    σ₂ ⎟                                     \n",
       "     ⎜                  4⋅σ₁ ⋅⎜─── + ───⎟                                     \n",
       "     ⎜                        ⎝ 2     2 ⎠    ⎛     σ₂⋅(μ₁ - μ₂)    ⎞          \n",
       "     ⎜  π⋅σ₂⋅(μ₁ - μ₂)⋅ℯ                 ⋅   ⎜─────────────────────⎟          \n",
       "     ⎜                                       ⎜          ___________⎟          \n",
       "     ⎜                                    erf⎜         ╱   2     2 ⎟          \n",
       "     ⎜                                       ⎜        ╱  σ₁    σ₂  ⎟          \n",
       "     ⎜                                       ⎜2⋅σ₁⋅  ╱   ─── + ─── ⎟          \n",
       "     ⎜                                       ⎝     ╲╱     2     2  ⎠   π⋅σ₂⋅(μ\n",
       "  σ₁⋅⎜- ──────────────────────────────────────────────────────────── - ───────\n",
       "     ⎜                               ___________                              \n",
       "     ⎜                              ╱   2     2                               \n",
       "     ⎜                             ╱  σ₁    σ₂                                \n",
       "     ⎜                     2⋅σ₁⋅  ╱   ─── + ───                              2\n",
       "     ⎝                          ╲╱     2     2                                \n",
       "- ────────────────────────────────────────────────────────────────────────────\n",
       "                                                           3/2                \n",
       "                                                        2⋅π   ⋅σ₂⋅(μ₁ - μ₂)   \n",
       "\n",
       "                          ⎞                               ⎛                   \n",
       "                          ⎟                               ⎜                   \n",
       "                          ⎟                               ⎜                   \n",
       "                          ⎟                               ⎜                   \n",
       "                          ⎟                               ⎜                   \n",
       "             2          2 ⎟                               ⎜                   \n",
       "           σ₂ ⋅(μ₁ - μ₂)  ⎟                               ⎜                   \n",
       "         ─────────────────⎟                               ⎜  π⋅σ₂⋅(-μ₁ + μ₂)⋅ℯ\n",
       "               ⎛  2     2⎞⎟       2               2       ⎜                   \n",
       "             2 ⎜σ₁    σ₂ ⎟⎟     μ₁     μ₁⋅μ₂    μ₂        ⎜                   \n",
       "         4⋅σ₁ ⋅⎜─── + ───⎟⎟  - ───── + ───── - ─────      ⎜                   \n",
       "               ⎝ 2     2 ⎠⎟        2      2        2      ⎜                   \n",
       "₁ - μ₂)⋅ℯ                 ⎟    2⋅σ₁     σ₁     2⋅σ₁       ⎜                   \n",
       "──────────────────────────⎟⋅ℯ                          σ₁⋅⎜- ─────────────────\n",
       "         ___________      ⎟                               ⎜                   \n",
       "        ╱   2     2       ⎟                               ⎜                   \n",
       "       ╱  σ₁    σ₂        ⎟                               ⎜                   \n",
       "⋅σ₁⋅  ╱   ─── + ───       ⎟                               ⎜                   \n",
       "    ╲╱     2     2        ⎠                               ⎝                   \n",
       "──────────────────────────────────────────────────── - ───────────────────────\n",
       "                                                                              \n",
       "                                                                              \n",
       "\n",
       "   2           2                                                              \n",
       " σ₂ ⋅(-μ₁ + μ₂)                                                               \n",
       "─────────────────                                                             \n",
       "      ⎛  2     2⎞                                                             \n",
       "    2 ⎜σ₁    σ₂ ⎟                                                             \n",
       "4⋅σ₁ ⋅⎜─── + ───⎟                                                  2          \n",
       "      ⎝ 2     2 ⎠    ⎛    σ₂⋅(-μ₁ + μ₂)    ⎞                     σ₂ ⋅(-μ₁ + μ₂\n",
       "                 ⋅   ⎜─────────────────────⎟                    ──────────────\n",
       "                     ⎜          ___________⎟                          ⎛  2    \n",
       "                  erf⎜         ╱   2     2 ⎟                        2 ⎜σ₁    σ\n",
       "                     ⎜        ╱  σ₁    σ₂  ⎟                    4⋅σ₁ ⋅⎜─── + ─\n",
       "                     ⎜2⋅σ₁⋅  ╱   ─── + ─── ⎟                          ⎝ 2     \n",
       "                     ⎝     ╲╱     2     2  ⎠   π⋅σ₂⋅(-μ₁ + μ₂)⋅ℯ              \n",
       "──────────────────────────────────────────── - ───────────────────────────────\n",
       "             ___________                                       ___________    \n",
       "            ╱   2     2                                       ╱   2     2     \n",
       "           ╱  σ₁    σ₂                                       ╱  σ₁    σ₂      \n",
       "   2⋅σ₁⋅  ╱   ─── + ───                              2⋅σ₁⋅  ╱   ─── + ───     \n",
       "        ╲╱     2     2                                    ╲╱     2     2      \n",
       "──────────────────────────────────────────────────────────────────────────────\n",
       "                                   3/2                                        \n",
       "                                2⋅π   ⋅σ₂⋅(-μ₁ + μ₂)                          \n",
       "\n",
       "   ⎞                         \n",
       "   ⎟                         \n",
       "   ⎟                         \n",
       "   ⎟                         \n",
       "   ⎟                         \n",
       " 2 ⎟                         \n",
       ")  ⎟                         \n",
       "───⎟                         \n",
       " 2⎞⎟       2               2 \n",
       "₂ ⎟⎟     μ₁     μ₁⋅μ₂    μ₂  \n",
       "──⎟⎟  - ───── + ───── - ─────\n",
       "2 ⎠⎟        2      2        2\n",
       "   ⎟    2⋅σ₁     σ₁     2⋅σ₁ \n",
       "───⎟⋅ℯ                       \n",
       "   ⎟                         \n",
       "   ⎟                         \n",
       "   ⎟                         \n",
       "   ⎟                         \n",
       "   ⎠                         \n",
       "─────────────────────────────\n",
       "                             \n",
       "                             "
      ]
     },
     "execution_count": 22,
     "metadata": {},
     "output_type": "execute_result"
    }
   ],
   "source": [
    "#fun fun fun\n",
    "P = integrate(N1 * N2, (x, -oo, oo) )\n",
    "P"
   ]
  },
  {
   "cell_type": "code",
   "execution_count": 28,
   "metadata": {
    "collapsed": false
   },
   "outputs": [
    {
     "name": "stdout",
     "output_type": "stream",
     "text": [
      "0.1409592688\n"
     ]
    },
    {
     "data": {
      "text/latex": [
       "$$0.1042295809$$"
      ],
      "text/plain": [
       "0.1042295809"
      ]
     },
     "execution_count": 28,
     "metadata": {},
     "output_type": "execute_result"
    }
   ],
   "source": [
    "#lambda from day 1 = 628.7nm ± 2nm\n",
    "#lambda from day 2 = 630.9nm ± 2nm\n",
    "print(P.subs({mu1: 628.7, sigma1: 2, mu2 : 628.8, sigma2: 2}).evalf(10))\n",
    "P.subs({mu1: 628.7, sigma1: 2, mu2 : 630.9, sigma2: 2}).evalf(10)"
   ]
  },
  {
   "cell_type": "code",
   "execution_count": 33,
   "metadata": {
    "collapsed": false
   },
   "outputs": [
    {
     "name": "stdout",
     "output_type": "stream",
     "text": [
      "formula:   t = -1.1  p = 0.38604\n"
     ]
    }
   ],
   "source": [
    "import numpy as np\n",
    "from scipy.stats import ttest_ind\n",
    "from scipy.special import stdtr\n",
    "\n",
    "\n",
    "# Compute the descriptive statistics of a and b.\n",
    "abar = 628.7\n",
    "avar = 4\n",
    "na = 2\n",
    "adof = na - 1\n",
    "\n",
    "bbar = 630.9\n",
    "bvar = 4\n",
    "nb = 2\n",
    "bdof = nb - 1\n",
    "\n",
    "# Compute Welch's t-test using the descriptive statistics.\n",
    "tf = (abar - bbar) / np.sqrt(avar/na + bvar/nb)\n",
    "dof = (avar/na + bvar/nb)**2 / (avar**2/(na**2*adof) + bvar**2/(nb**2*bdof))\n",
    "pf = 2*stdtr(dof, -np.abs(tf))\n",
    "\n",
    "print(\"formula:   t = %g  p = %g\" % (tf, pf))"
   ]
  },
  {
   "cell_type": "code",
   "execution_count": null,
   "metadata": {
    "collapsed": true
   },
   "outputs": [],
   "source": []
  }
 ],
 "metadata": {
  "kernelspec": {
   "display_name": "Python 3",
   "language": "python",
   "name": "python3"
  },
  "language_info": {
   "codemirror_mode": {
    "name": "ipython",
    "version": 3
   },
   "file_extension": ".py",
   "mimetype": "text/x-python",
   "name": "python",
   "nbconvert_exporter": "python",
   "pygments_lexer": "ipython3",
   "version": "3.5.1"
  }
 },
 "nbformat": 4,
 "nbformat_minor": 0
}

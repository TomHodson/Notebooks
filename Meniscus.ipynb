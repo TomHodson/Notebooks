{
 "cells": [
  {
   "cell_type": "code",
   "execution_count": 93,
   "metadata": {
    "collapsed": true
   },
   "outputs": [],
   "source": [
    "%matplotlib inline\n",
    "import numpy as np\n",
    "from matplotlib import pyplot as plt\n",
    "plt.rcParams['figure.figsize'] = (15.0, 12.0)"
   ]
  },
  {
   "cell_type": "markdown",
   "metadata": {},
   "source": [
    "## Meniscus\n",
    "### Linear\n",
    "Want to find the shape of the equilibrium surface for a fluid, density $\\rho$, in an infinitely long glass vessel of width a. The air-fluid interface has a surface tension $\\gamma_{air}$ and the glass-fluid interface has surface tension $\\gamma_{glass}$.\n",
    "\n",
    "Let the surface profile be $z = Z(x)$ due to the linear symmetry. The Energy per unit length is:\n",
    "\n",
    "$$ E = E_{top} + E_{side} $$\n",
    "\n",
    "$$ E_{top} = \\int_{top}dS (\\gamma_{air} + \\frac{1}{2}\\rho g z) = \\int_{x = 0}^a (\\gamma_{air} + \\frac{1}{2}\\rho g z)\\sqrt{1 + (z')^2}dr$$\n",
    "\n",
    "$$ E_{side} = \\int_{side}dS \\; \\gamma_{glass}  = Z(R) \\; \\gamma_{glass} $$\n"
   ]
  },
  {
   "cell_type": "code",
   "execution_count": 9,
   "metadata": {
    "collapsed": false
   },
   "outputs": [
    {
     "name": "stdout",
     "output_type": "stream",
     "text": [
      "Help on function polyval in module numpy.lib.polynomial:\n",
      "\n",
      "polyval(p, x)\n",
      "    Evaluate a polynomial at specific values.\n",
      "    \n",
      "    If `p` is of length N, this function returns the value:\n",
      "    \n",
      "        ``p[0]*x**(N-1) + p[1]*x**(N-2) + ... + p[N-2]*x + p[N-1]``\n",
      "    \n",
      "    If `x` is a sequence, then `p(x)` is returned for each element of `x`.\n",
      "    If `x` is another polynomial then the composite polynomial `p(x(t))`\n",
      "    is returned.\n",
      "    \n",
      "    Parameters\n",
      "    ----------\n",
      "    p : array_like or poly1d object\n",
      "       1D array of polynomial coefficients (including coefficients equal\n",
      "       to zero) from highest degree to the constant term, or an\n",
      "       instance of poly1d.\n",
      "    x : array_like or poly1d object\n",
      "       A number, a 1D array of numbers, or an instance of poly1d, \"at\"\n",
      "       which to evaluate `p`.\n",
      "    \n",
      "    Returns\n",
      "    -------\n",
      "    values : ndarray or poly1d\n",
      "       If `x` is a poly1d instance, the result is the composition of the two\n",
      "       polynomials, i.e., `x` is \"substituted\" in `p` and the simplified\n",
      "       result is returned. In addition, the type of `x` - array_like or\n",
      "       poly1d - governs the type of the output: `x` array_like => `values`\n",
      "       array_like, `x` a poly1d object => `values` is also.\n",
      "    \n",
      "    See Also\n",
      "    --------\n",
      "    poly1d: A polynomial class.\n",
      "    \n",
      "    Notes\n",
      "    -----\n",
      "    Horner's scheme [1]_ is used to evaluate the polynomial. Even so,\n",
      "    for polynomials of high degree the values may be inaccurate due to\n",
      "    rounding errors. Use carefully.\n",
      "    \n",
      "    References\n",
      "    ----------\n",
      "    .. [1] I. N. Bronshtein, K. A. Semendyayev, and K. A. Hirsch (Eng.\n",
      "       trans. Ed.), *Handbook of Mathematics*, New York, Van Nostrand\n",
      "       Reinhold Co., 1985, pg. 720.\n",
      "    \n",
      "    Examples\n",
      "    --------\n",
      "    >>> np.polyval([3,0,1], 5)  # 3 * 5**2 + 0 * 5**1 + 1\n",
      "    76\n",
      "    >>> np.polyval([3,0,1], np.poly1d(5))\n",
      "    poly1d([ 76.])\n",
      "    >>> np.polyval(np.poly1d([3,0,1]), 5)\n",
      "    76\n",
      "    >>> np.polyval(np.poly1d([3,0,1]), np.poly1d(5))\n",
      "    poly1d([ 76.])\n",
      "\n"
     ]
    }
   ],
   "source": [
    "#use a high order polynomial ansatz starting from a flat function\n",
    "x0 = [0, 0, 0, 1]\n",
    "def E(f):\n",
    "    gamma_glass = 1.0\n",
    "    gamma_air = 1.0\n",
    "    rho = 1000.0\n",
    "    g = 9.81\n",
    "    "
   ]
  },
  {
   "cell_type": "markdown",
   "metadata": {},
   "source": [
    "### Cylindrical\n",
    "Want to find the shape of the equilibrium surface for a fluid, density $\\rho$, in a cylindrical glass vessel, radius R. The air-fluid interface has a surface tension $\\gamma_{air}$ and the glass-fluid interface has surface tension $\\gamma_{glass}$. \n",
    "\n",
    "If the glass has a hydrophobic coating one would expect $\\gamma_{glass} > \\gamma_{air}$ and the meniscus to curve downwards, minimising the contact between the glass and the fluid. \n",
    "\n",
    "Using cylindrical coords $(r, \\phi, z)$. Assuming that the solution is cylindrically symmetric, we define it by: \n",
    "\n",
    "$$z = Z(r), 0 < r < R $$ "
   ]
  },
  {
   "cell_type": "markdown",
   "metadata": {},
   "source": [
    "The energy functional is then an integral over the top surface that takes care of the potential energy and the energy of the air-fluid interface and an integral over the side that takes care of the glass-fluid interface.\n",
    "\n",
    "$$ E = E_{top} + E_{side} $$\n",
    "\n",
    "$$ E_{top} = \\int_{top}dS (\\gamma_{air} + \\frac{1}{2}\\rho g z)$$\n",
    "\n",
    "$$ E_{side} = \\int_{side}dS \\; \\gamma_{glass}  = 2\\pi R \\; Z(R) \\; \\gamma_{glass} $$"
   ]
  },
  {
   "cell_type": "markdown",
   "metadata": {},
   "source": [
    "Taking a surface element with side lengths $da$ in the radial direction and $db$ in the angular direction.\n",
    "\n",
    "$$dS = da \\; db $$\n",
    "\n",
    "$$da = \\sqrt{dr^2 + (\\frac{dz}{dr}dr)^2} = \\sqrt{1 + \\frac{dz}{dr}^2} dr$$\n",
    "\n",
    "$$db = \\sqrt{(rd\\phi)^2 + (\\frac{dz}{d\\phi}d\\phi)^2} = \\sqrt{r^2 + \\frac{dz}{d\\phi}^2} d\\phi = r d\\phi$$\n"
   ]
  },
  {
   "cell_type": "markdown",
   "metadata": {},
   "source": [
    "$$ E_{top} = 2\\pi\\int_{r = 0}^R (\\gamma_{air} + \\frac{1}{2}\\rho g z) (\\sqrt{1 + (z')^2} r dr) $$\n",
    "\n",
    "$$E = \\int_{r = 0}^R f(z, z') dr$$\n",
    "\n",
    "$$f(z,z') = 2\\pi (\\gamma_{air} + \\frac{1}{2}\\rho g z) (\\sqrt{1 + \\frac{dz}{dr}^2} r) + 2\\pi R \\gamma_{glass}Z(r)\\delta(r-R) $$"
   ]
  },
  {
   "cell_type": "markdown",
   "metadata": {},
   "source": [
    "We need to add the constraint that the volume is constant:\n",
    "\n",
    "$$ V = 2\\pi \\int_{r = 0}^R rz \\; dr $$\n",
    "\n",
    "So the integrand of the function we need to minimise is:\n",
    "\n",
    "$$g(z, z') = 2\\pi (\\gamma_{air} + \\frac{1}{2}\\rho g z) (\\sqrt{1 + \\frac{dz}{dr}^2} r) + 2\\pi R Z(r) \\gamma_{glass}\\delta(r-R) + \\lambda rz $$"
   ]
  },
  {
   "cell_type": "markdown",
   "metadata": {},
   "source": [
    "Using the euler lagrange equations:\n",
    "\n",
    "$$dg = [\\frac{\\partial g}{\\partial z} - \\frac{d}{dr}(\\frac{\\partial g}{\\partial z'})] dr  = 0$$\n",
    "\n",
    "$$\\frac{\\partial g}{\\partial z} = 2\\pi \\frac{1}{2}\\rho g (\\sqrt{1 + \\frac{dz}{dr}^2} r) + 2\\pi R \\gamma_{glass}\\delta(r-R) + \\lambda r$$\n",
    "\n",
    "$$\\frac{\\partial g}{\\partial z'} =  $$\n"
   ]
  },
  {
   "cell_type": "code",
   "execution_count": null,
   "metadata": {
    "collapsed": true
   },
   "outputs": [],
   "source": []
  }
 ],
 "metadata": {
  "kernelspec": {
   "display_name": "Python 3",
   "language": "python",
   "name": "python3"
  },
  "language_info": {
   "codemirror_mode": {
    "name": "ipython",
    "version": 3
   },
   "file_extension": ".py",
   "mimetype": "text/x-python",
   "name": "python",
   "nbconvert_exporter": "python",
   "pygments_lexer": "ipython3",
   "version": "3.5.1"
  }
 },
 "nbformat": 4,
 "nbformat_minor": 0
}

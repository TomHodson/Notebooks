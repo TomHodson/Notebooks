{
 "cells": [
  {
   "cell_type": "code",
   "execution_count": 163,
   "metadata": {
    "collapsed": false
   },
   "outputs": [],
   "source": [
    "%matplotlib inline\n",
    "\n",
    "import numpy as np\n",
    "from matplotlib import pyplot as plt\n",
    "import numpy.linalg as LA\n",
    "#np.set_printoptions(precision=3)\n",
    "plt.rcParams['figure.figsize'] = (12.0, 8.0)\n",
    "\n",
    "@np.vectorize\n",
    "def roundsf(x, n):\n",
    "     if n < 1:\n",
    "         raise ValueError(\"number of significant digits must be >= 1\")\n",
    "     # Use %e format to get the n most significant digits, as a string.\n",
    "     format = \"%.\" + str(n-1) + \"e\"\n",
    "     as_string = format % x\n",
    "     return float(as_string)"
   ]
  },
  {
   "cell_type": "code",
   "execution_count": 169,
   "metadata": {
    "collapsed": false
   },
   "outputs": [],
   "source": [
    "PIN = 165\n",
    "k1 = 1.0 + PIN / 300.0\n",
    "k2 = k1 * 1e-3\n",
    "\n",
    "#load the matrix M and the vector b\n",
    "M = np.array([[k2, 3, 6,  7],\n",
    "              [8, 2, 11, 6],\n",
    "              [2, 9, 3,  1],\n",
    "              [2, 4, 6,  1]])\n",
    "\n",
    "b = np.array([5, 11, 3, 27])\n",
    "\n",
    "truncate = 4"
   ]
  },
  {
   "cell_type": "markdown",
   "metadata": {},
   "source": [
    "## Factorisation"
   ]
  },
  {
   "cell_type": "code",
   "execution_count": 170,
   "metadata": {
    "collapsed": false
   },
   "outputs": [
    {
     "name": "stdout",
     "output_type": "stream",
     "text": [
      "L = \n",
      " [[  1.0000000000e+00   0.0000000000e+00   0.0000000000e+00\n",
      "    0.0000000000e+00]\n",
      " [  5.1610000000e+03   1.0000000000e+00   0.0000000000e+00\n",
      "    0.0000000000e+00]\n",
      " [  1.2900000000e+03   2.4950000000e-01   1.0000000000e+00\n",
      "    0.0000000000e+00]\n",
      " [  1.2900000000e+03   2.4980000000e-01   2.2380000000e-01\n",
      "    1.0000000000e+00]] \n",
      "\n",
      "U = \n",
      " [[  1.5500000000e-03   3.0000000000e+00   6.0000000000e+00\n",
      "    7.0000000000e+00]\n",
      " [  0.0000000000e+00  -1.5480000000e+04  -3.0960000000e+04\n",
      "   -3.6120000000e+04]\n",
      " [  0.0000000000e+00   0.0000000000e+00  -1.6750000000e+01\n",
      "   -2.0330000000e+01]\n",
      " [  0.0000000000e+00   0.0000000000e+00   0.0000000000e+00\n",
      "   -4.1150000000e+00]] \n",
      "\n",
      "LU = \n",
      " [[  1.5500000000e-03   3.0000000000e+00   6.0000000000e+00\n",
      "    7.0000000000e+00]\n",
      " [  7.9995500000e+00   3.0000000000e+00   6.0000000000e+00\n",
      "    7.0000000000e+00]\n",
      " [  1.9995000000e+00   7.7400000000e+00  -1.2700000000e+00\n",
      "   -2.2700000000e+00]\n",
      " [  1.9995000000e+00   3.0960000000e+00   2.4433500000e+00\n",
      "   -1.4408540000e+00]] \n",
      "\n",
      "M = \n",
      " [[  1.5500000000e-03   3.0000000000e+00   6.0000000000e+00\n",
      "    7.0000000000e+00]\n",
      " [  8.0000000000e+00   2.0000000000e+00   1.1000000000e+01\n",
      "    6.0000000000e+00]\n",
      " [  2.0000000000e+00   9.0000000000e+00   3.0000000000e+00\n",
      "    1.0000000000e+00]\n",
      " [  2.0000000000e+00   4.0000000000e+00   6.0000000000e+00\n",
      "    1.0000000000e+00]] \n",
      "\n"
     ]
    }
   ],
   "source": [
    "def lu_factorisation(P):\n",
    "    \"\"\"\n",
    "    compute P = LU where L is lower triangular and U is upper triangular\n",
    "    returns L, U\n",
    "    \"\"\"\n",
    "    m,n = P.shape\n",
    "    assert(m == n) #this implementation assumes square matrices\n",
    "    N = m\n",
    "    \n",
    "    L, U = np.zeros_like(P), np.zeros_like(P)\n",
    "    \n",
    "    #syntax notes:\n",
    "    #range(a,b) returns [a, a+1, ... b-2, b-1]\n",
    "    #arrays are zero referenced\n",
    "    #U[i, j] follows the row, column convention\n",
    "    \n",
    "    #loop over the columns of L and U\n",
    "    for j in range(N):\n",
    "        for i in range(j+1):\n",
    "            U[i, j] = P[i, j] - sum(L[i, k]*U[k, j] for k in range(i))\n",
    "            \n",
    "        for i in range(j+1, N): \n",
    "            L[i, j] = P[i, j] - sum(L[i, k]*U[k, j] for k in range(j))\n",
    "            L[i, j] /= U[j,j]\n",
    "        \n",
    "        #explictely set the diagonal of L to 1\n",
    "        L[j, j] = 1\n",
    "    \n",
    "    #round the returned matrices to 3 d.p\n",
    "    if truncate: return roundsf(L, truncate), roundsf(U, truncate)\n",
    "    else: return L, U\n",
    "            \n",
    "\n",
    "        \n",
    "    \n",
    "L, U = lu_factorisation(M)\n",
    "\n",
    "print(\"L = \\n\", L, \"\\n\")\n",
    "print(\"U = \\n\", U, \"\\n\")\n",
    "print(\"LU = \\n\", np.dot(L,U), \"\\n\") #in numpy, matrix multiplication is np.dot(A,B)\n",
    "print(\"M = \\n\", M, \"\\n\")"
   ]
  },
  {
   "cell_type": "markdown",
   "metadata": {},
   "source": [
    "## Forward Subsitution"
   ]
  },
  {
   "cell_type": "code",
   "execution_count": 171,
   "metadata": {
    "collapsed": false
   },
   "outputs": [
    {
     "name": "stdout",
     "output_type": "stream",
     "text": [
      "x from LU factorisation =  [ 1.25   -0.2188  7.432  -5.563 ]\n",
      "exact x =  [-4.456057567  -0.4896717759  7.1838803735 -5.2324800034]\n",
      "% error =  [ 456.4846053612 -123.798800683     3.3385310346    5.941398464 ] \n",
      "\n",
      "Mx =  [  4.9965375  57.9364     17.2638     40.6538   ]\n",
      "b =  [ 5 11  3 27]\n"
     ]
    }
   ],
   "source": [
    "def LU_solve(L, U, b):\n",
    "    \"\"\"\n",
    "    solve LUx = b\n",
    "    for x where L and U are lower and upper triangular\n",
    "    \"\"\"\n",
    "    N = len(b)\n",
    "    y = np.zeros((N))\n",
    "    x = np.zeros((N))\n",
    "    \n",
    "    #first step: solve for y in Ly = b\n",
    "    for i in range(N):\n",
    "        y[i] = b[i] - sum(L[i,k] * y[k] for k in range(i))\n",
    "    \n",
    "    if truncate: y = roundsf(y, truncate)\n",
    "    #second step: solve for x in Ux = y, note that the order of evaluation is reversed with [::-1]\n",
    "    for i in range(N)[::-1]:\n",
    "        x[i] = ( y[i] - sum(U[i,k] * x[k] for k in range(i+1, N)) ) / U[i,i]\n",
    "    \n",
    "    if truncate: x = roundsf(x, truncate)\n",
    "    return x\n",
    "\n",
    "x = LU_solve(L, U, b)\n",
    "exact_x = LA.solve(M, b)\n",
    "\n",
    "print(\"x from LU factorisation = \", x)\n",
    "print(\"exact x = \", exact_x)\n",
    "print(\"% error = \", 100 * (x - exact_x) / x, \"\\n\")\n",
    "\n",
    "print(\"Mx = \",np.dot(M, x))\n",
    "print(\"b = \", b)\n",
    "    "
   ]
  },
  {
   "cell_type": "code",
   "execution_count": 32,
   "metadata": {
    "collapsed": false
   },
   "outputs": [
    {
     "name": "stdout",
     "output_type": "stream",
     "text": [
      "calculated inverse using my method = \n",
      " [[-0.14065319  0.18778306  0.12297949 -0.26510549]\n",
      " [ 0.00883685 -0.02750469  0.12316359 -0.01999337]\n",
      " [ 0.01472808 -0.04584116 -0.12806068  0.30001105]\n",
      " [ 0.15759049  0.00949961  0.02975073 -0.18988181]] \n",
      "\n",
      "calculated inverse using a library method = \n",
      " [[-0.14065319  0.18778306  0.12297949 -0.26510549]\n",
      " [ 0.00883685 -0.02750469  0.12316359 -0.01999337]\n",
      " [ 0.01472808 -0.04584116 -0.12806068  0.30001105]\n",
      " [ 0.15759049  0.00949961  0.02975073 -0.18988181]] \n",
      "\n",
      "difference = \n",
      " [[ -5.55111512e-17   2.77555756e-17   5.55111512e-17  -5.55111512e-17]\n",
      " [ -1.38777878e-17   0.00000000e+00  -1.38777878e-17   3.46944695e-17]\n",
      " [  4.85722573e-17  -6.93889390e-18   0.00000000e+00   0.00000000e+00]\n",
      " [ -2.77555756e-17  -3.46944695e-18  -1.04083409e-17   5.55111512e-17]] \n",
      "\n",
      "inv_M * M = \n",
      " [[  1.00000000e+00  -3.33066907e-16  -2.22044605e-16   2.22044605e-16]\n",
      " [  0.00000000e+00   1.00000000e+00  -5.55111512e-17   8.32667268e-17]\n",
      " [  0.00000000e+00  -3.46944695e-17   1.00000000e+00  -2.22044605e-16]\n",
      " [  0.00000000e+00   0.00000000e+00   2.22044605e-16   1.00000000e+00]] \n",
      "\n"
     ]
    }
   ],
   "source": [
    "def inverse(P):\n",
    "    #get the shape of P\n",
    "    #we're going to assume it's square\n",
    "    n,m = P.shape\n",
    "    #get the LU factorisation of M\n",
    "    L, U = lu_factorisation(M)\n",
    "    #generate an identity matrix of the correct size\n",
    "    I = np.identity(n)\n",
    "    #allocate space for the inverse matrix\n",
    "    inv_P = np.zeros_like(P)\n",
    "    #iterate over the columns of I (which are also the rows since I is hermitian)\n",
    "    for i in range(n):\n",
    "        inv_P[:, i] = LU_solve(L, U, I[i])\n",
    "    return inv_P\n",
    "        \n",
    "\n",
    "inv_M = inverse(M)\n",
    "print(\"calculated inverse using my method = \\n\", inv_M, \"\\n\")\n",
    "from numpy.linalg import inv\n",
    "print(\"calculated inverse using a library method = \\n\", inv(M), \"\\n\")\n",
    "print(\"difference = \\n\", inv(M) - inv_M, \"\\n\")\n",
    "print(\"inv_M * M = \\n\", np.dot(inv_M,M), \"\\n\")\n",
    "\n",
    "    "
   ]
  },
  {
   "cell_type": "code",
   "execution_count": 61,
   "metadata": {
    "collapsed": false
   },
   "outputs": [
    {
     "name": "stdout",
     "output_type": "stream",
     "text": [
      "Determinant from library function =  -1357.95 \n",
      "\n",
      "Determinant from the product of the diagonal of U =  -1357.95\n"
     ]
    }
   ],
   "source": [
    "from operator import mul\n",
    "from functools import reduce\n",
    "def product(nums):\n",
    "    return reduce(mul, nums)\n",
    "\n",
    "def determinant(P):\n",
    "    L,U = lu_factorisation(P)\n",
    "    n,m = P.shape\n",
    "    return product(U[i][i] for i in range(n))\n",
    "\n",
    "print(\"Determinant from library function = \", LA.det(M), \"\\n\")\n",
    "print(\"Determinant from the product of the diagonal of U = \", determinant(M))\n",
    "    "
   ]
  },
  {
   "cell_type": "markdown",
   "metadata": {},
   "source": [
    "## Tridiagonal Matrices"
   ]
  },
  {
   "cell_type": "code",
   "execution_count": 181,
   "metadata": {
    "collapsed": false
   },
   "outputs": [
    {
     "name": "stdout",
     "output_type": "stream",
     "text": [
      "Solving Tx = (1,2,3,4,5,6,7,8,9)\n",
      " 4 sig figs\n",
      "alpha:  [-1.55 -1.55 -1.55 -1.55 -1.55 -1.55 -1.55 -1.55 -1.55]\n",
      "beta:  [  1.5500e-05   4.1000e+00   4.1000e+00   4.1000e+00   4.1000e+00\n",
      "   4.1000e+00   4.1000e+00   4.1000e+00   4.1000e+00]\n",
      "gamma:  [-1.55 -1.55 -1.55 -1.55 -1.55 -1.55 -1.55 -1.55 -1.55] \n",
      "\n",
      "d:  [  1.5500e-05  -1.5500e+05   4.1000e+00   3.5140e+00   3.4160e+00\n",
      "   3.3970e+00   3.3930e+00   3.3920e+00   3.3920e+00]\n",
      "l:  [  0.0000e+00  -1.0000e+05   1.0000e-05  -3.7800e-01  -4.4110e-01\n",
      "  -4.5370e-01  -4.5630e-01  -4.5690e-01  -4.5700e-01]\n",
      "u:  [-1.55 -1.55 -1.55 -1.55 -1.55 -1.55 -1.55 -1.55  0.  ] \n",
      "\n",
      "x:  [-3.049  -0.6452  1.758   3.36    4.55    5.449   5.993   5.888   4.421 ]\n",
      "Tx [ 1.     -0.6443  3.      3.999   5.001   5.999   6.999   7.999   9.    ]\n",
      "original b:  [1 2 3 4 5 6 7 8 9]\n",
      "max % error: 1.3e+02\n"
     ]
    }
   ],
   "source": [
    "PIN1 = 165\n",
    "k3 = 1 + PIN1 / 300\n",
    "k4 = k3 * 1e-5\n",
    "#looking at the matrix equation Tx = b where x in unknown\n",
    "b = np.arange(1,10)\n",
    "\n",
    "#using k = k0 = k\n",
    "gamma = np.ones_like(b) * -k3\n",
    "beta = np.ones_like(b) * (1 + 2*k3)\n",
    "beta[0] = k4\n",
    "alpha = np.ones_like(b) * -k3\n",
    "\n",
    "def lu_factor_tridiagonal(alpha, beta, gamma): #alpha is the lower diagonal entries, beta the central and gamma the upper \n",
    "    N = len(beta)\n",
    "    d, l, u = np.zeros((3, N))\n",
    "\n",
    "    #note that the first and last iterations of the loop are written explicitely to avoid out of bounds access\n",
    "    d[0] = beta[0]\n",
    "    l[1] = alpha[1] / d[0]\n",
    "    \n",
    "    for j in range(1, N-1):\n",
    "        u[j - 1] = gamma[j - 1]\n",
    "        d[j] = beta[j] - l[j]*u[j-1]\n",
    "        l[j+1] = alpha[j+1] / d[j]\n",
    "    \n",
    "    u[N - 2] = gamma[N - 2]\n",
    "    d[N-1] = beta[N-1] - l[N-1]*u[N-2]\n",
    "        \n",
    "    if truncate: return roundsf(d,truncate), roundsf(l, truncate), roundsf(u, truncate)       \n",
    "    return d,l,u\n",
    "\n",
    "def lu_solve_tridiag(d,l,u,b):\n",
    "    N = len(b)\n",
    "    x,y = np.zeros((2, N))\n",
    "    \n",
    "    #forward substitution\n",
    "    y[0] = b[0]\n",
    "    for j in range(1, N):\n",
    "        y[j] = b[j] - l[j]*y[j-1]\n",
    "    \n",
    "    #backward substitution\n",
    "    x[N-1] = y[N-1] / d[N-1]\n",
    "    for j in range(N-1)[::-1]:\n",
    "        x[j] = (y[j] - u[j] * x[j+1]) / d[j]\n",
    "        \n",
    "    if truncate: return roundsf(x, truncate)\n",
    "    return x\n",
    "        \n",
    "def bcalc(alpha, beta, gamma ,x):\n",
    "    N = len(x)\n",
    "    b = np.zeros(N)\n",
    "    b[0] = beta[0]*x[0] + gamma[0] * x[1]\n",
    "    for i in range(1,N-1):\n",
    "        b[i] = alpha[i]*x[i-1] + beta[i]*x[i] + gamma[i] * x[i+1]\n",
    "    \n",
    "    b[N-1] = alpha[N-1]*x[N-2] + beta[N-1]*x[N-1]   \n",
    "    \n",
    "    if truncate: return roundsf(b, truncate)\n",
    "    return b\n",
    "  \n",
    "truncate = 4\n",
    "d,l,u = lu_factor_tridiagonal(alpha, beta, gamma)\n",
    "x = lu_solve_tridiag(d,l,u,b)\n",
    "\n",
    "np.set_printoptions(precision=4)\n",
    "print(\"Solving Tx = (1,2,3,4,5,6,7,8,9)\\n 4 sig figs\")\n",
    "\n",
    "print(\"alpha: \", alpha)\n",
    "print(\"beta: \", beta)\n",
    "print(\"gamma: \", gamma, \"\\n\")\n",
    "\n",
    "print(\"d: \", d)\n",
    "print(\"l: \", l)\n",
    "print(\"u: \", u, \"\\n\")\n",
    "\n",
    "print(\"x: \", x)\n",
    "print(\"Tx\", bcalc(alpha, beta, gamma, x))\n",
    "print(\"original b: \",b)\n",
    "print(\"max % error: {:.2}\".format(max(abs(b - bcalc(alpha, beta, gamma, x)) / b * 100 )))"
   ]
  },
  {
   "cell_type": "code",
   "execution_count": 152,
   "metadata": {
    "collapsed": false
   },
   "outputs": [
    {
     "name": "stdout",
     "output_type": "stream",
     "text": [
      "-5.56e-03\n",
      "1.22e+00\n"
     ]
    },
    {
     "data": {
      "text/plain": [
       "array([-0.00556,  1.22   ])"
      ]
     },
     "execution_count": 152,
     "metadata": {},
     "output_type": "execute_result"
    }
   ],
   "source": []
  },
  {
   "cell_type": "code",
   "execution_count": 139,
   "metadata": {
    "collapsed": false
   },
   "outputs": [
    {
     "data": {
      "text/plain": [
       "10.0"
      ]
     },
     "execution_count": 139,
     "metadata": {},
     "output_type": "execute_result"
    }
   ],
   "source": []
  },
  {
   "cell_type": "code",
   "execution_count": null,
   "metadata": {
    "collapsed": true
   },
   "outputs": [],
   "source": []
  }
 ],
 "metadata": {
  "kernelspec": {
   "display_name": "Python 3",
   "language": "python",
   "name": "python3"
  },
  "language_info": {
   "codemirror_mode": {
    "name": "ipython",
    "version": 3
   },
   "file_extension": ".py",
   "mimetype": "text/x-python",
   "name": "python",
   "nbconvert_exporter": "python",
   "pygments_lexer": "ipython3",
   "version": "3.5.1"
  }
 },
 "nbformat": 4,
 "nbformat_minor": 0
}

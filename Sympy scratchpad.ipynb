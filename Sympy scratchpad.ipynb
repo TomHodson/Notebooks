{
 "cells": [
  {
   "cell_type": "code",
   "execution_count": 3,
   "metadata": {
    "collapsed": true
   },
   "outputs": [],
   "source": [
    "from sympy import *\n",
    "from IPython.display import display\n",
    "init_printing(use_latex='mathjax')\n",
    "%matplotlib inline\n",
    "import numpy as np"
   ]
  },
  {
   "cell_type": "code",
   "execution_count": 4,
   "metadata": {
    "collapsed": false
   },
   "outputs": [
    {
     "data": {
      "text/latex": [
       "$$\\left ( x, \\quad x_{w}, \\quad k_{w}\\right )$$"
      ],
      "text/plain": [
       "(x, x_w, k_w)"
      ]
     },
     "execution_count": 4,
     "metadata": {},
     "output_type": "execute_result"
    }
   ],
   "source": [
    "x, xw, kw, L = symbols(\"x x_w k_w L\", real = True)\n",
    "x, xw, kw"
   ]
  },
  {
   "cell_type": "code",
   "execution_count": 5,
   "metadata": {
    "collapsed": false
   },
   "outputs": [
    {
     "data": {
      "text/latex": [
       "$$e^{- \\frac{x^{2}}{2 x_{w}^{2}}} \\cos{\\left (k_{w} x \\right )}$$"
      ],
      "text/plain": [
       "    2             \n",
       "  -x              \n",
       " ──────           \n",
       "      2           \n",
       " 2⋅x_w            \n",
       "ℯ      ⋅cos(k_w⋅x)"
      ]
     },
     "execution_count": 5,
     "metadata": {},
     "output_type": "execute_result"
    }
   ],
   "source": [
    "f = exp(-x**2 / (2*xw**2))*cos(kw*x)\n",
    "f"
   ]
  },
  {
   "cell_type": "code",
   "execution_count": 6,
   "metadata": {
    "collapsed": false
   },
   "outputs": [
    {
     "ename": "ValueError",
     "evalue": "not enough values to unpack (expected 3, got 2)",
     "output_type": "error",
     "traceback": [
      "\u001b[0;31m---------------------------------------------------------------------------\u001b[0m",
      "\u001b[0;31mValueError\u001b[0m                                Traceback (most recent call last)",
      "\u001b[0;32m<ipython-input-6-1eeb1b3d60ee>\u001b[0m in \u001b[0;36m<module>\u001b[0;34m()\u001b[0m\n\u001b[0;32m----> 1\u001b[0;31m \u001b[0mkw\u001b[0m\u001b[0;34m,\u001b[0m\u001b[0mkr\u001b[0m\u001b[0;34m,\u001b[0m\u001b[0mxw\u001b[0m \u001b[0;34m=\u001b[0m \u001b[0msymbols\u001b[0m\u001b[0;34m(\u001b[0m\u001b[0;34m\"a b\"\u001b[0m\u001b[0;34m,\u001b[0m \u001b[0mreal\u001b[0m \u001b[0;34m=\u001b[0m \u001b[0;32mTrue\u001b[0m\u001b[0;34m,\u001b[0m \u001b[0mpositive\u001b[0m \u001b[0;34m=\u001b[0m \u001b[0;32mTrue\u001b[0m\u001b[0;34m)\u001b[0m\u001b[0;34m\u001b[0m\u001b[0m\n\u001b[0m",
      "\u001b[0;31mValueError\u001b[0m: not enough values to unpack (expected 3, got 2)"
     ]
    }
   ],
   "source": [
    "kw,kr,xw = symbols(\"a b\", real = True, positive = True)\n"
   ]
  },
  {
   "cell_type": "markdown",
   "metadata": {},
   "source": [
    "$$a_r = \\frac{2x_w\\sqrt{2\\pi}}{L} + \\frac{1}{2}\\exp{\\frac{-(k_w + k_r)^2x_w^2}{2}} + \\frac{1}{2}\\exp{\\frac{-(k_w - k_r)^2x_w^2}{2}}$$\n",
    "Where\n",
    "$$k_r = \\frac{2\\pi r}{L}$$"
   ]
  },
  {
   "cell_type": "markdown",
   "metadata": {},
   "source": [
    "$$1/2 = \\frac{2x_w\\sqrt{2\\pi}}{L}$$\n",
    "giving\n",
    "$$L = 4x_w\\sqrt{2\\pi}$$"
   ]
  },
  {
   "cell_type": "code",
   "execution_count": null,
   "metadata": {
    "collapsed": false
   },
   "outputs": [],
   "source": [
    "import scipy.ndimage.filters as f\n",
    "f.laplace()"
   ]
  },
  {
   "cell_type": "code",
   "execution_count": 45,
   "metadata": {
    "collapsed": false
   },
   "outputs": [
    {
     "data": {
      "text/latex": [
       "$$\\left [ \\left ( 0, \\quad 1, \\quad \\left [ \\left[\\begin{matrix}1\\\\1\\\\1\\end{matrix}\\right]\\right ]\\right ), \\quad \\left ( - \\sqrt{3} + 3, \\quad 1, \\quad \\left [ \\left[\\begin{matrix}\\frac{2}{\\left(-2 + \\sqrt{3}\\right) \\left(2 + 2 \\sqrt{3}\\right)}\\\\\\frac{2}{2 + 2 \\sqrt{3}}\\\\1\\end{matrix}\\right]\\right ]\\right ), \\quad \\left ( \\sqrt{3} + 3, \\quad 1, \\quad \\left [ \\left[\\begin{matrix}\\frac{2}{\\left(-2 - \\sqrt{3}\\right) \\left(- 2 \\sqrt{3} + 2\\right)}\\\\\\frac{2}{- 2 \\sqrt{3} + 2}\\\\1\\end{matrix}\\right]\\right ]\\right )\\right ]$$"
      ],
      "text/plain": [
       "⎡               ⎛    ___         ⎡⎡            2             ⎤⎤⎞  ⎛  ___      \n",
       "⎢⎛0, 1, ⎡⎡1⎤⎤⎞, ⎜- ╲╱ 3  + 3, 1, ⎢⎢──────────────────────────⎥⎥⎟, ⎜╲╱ 3  + 3, \n",
       "⎢⎜      ⎢⎢ ⎥⎥⎟  ⎜                ⎢⎢⎛       ___⎞ ⎛        ___⎞⎥⎥⎟  ⎜           \n",
       "⎢⎜      ⎢⎢1⎥⎥⎟  ⎜                ⎢⎢⎝-2 + ╲╱ 3 ⎠⋅⎝2 + 2⋅╲╱ 3 ⎠⎥⎥⎟  ⎜           \n",
       "⎢⎜      ⎢⎢ ⎥⎥⎟  ⎜                ⎢⎢                          ⎥⎥⎟  ⎜           \n",
       "⎢⎝      ⎣⎣1⎦⎦⎠  ⎜                ⎢⎢            2             ⎥⎥⎟  ⎜           \n",
       "⎢               ⎜                ⎢⎢       ───────────        ⎥⎥⎟  ⎜           \n",
       "⎢               ⎜                ⎢⎢               ___        ⎥⎥⎟  ⎜           \n",
       "⎢               ⎜                ⎢⎢       2 + 2⋅╲╱ 3         ⎥⎥⎟  ⎜           \n",
       "⎢               ⎜                ⎢⎢                          ⎥⎥⎟  ⎜           \n",
       "⎣               ⎝                ⎣⎣            1             ⎦⎦⎠  ⎝           \n",
       "\n",
       "   ⎡⎡             2              ⎤⎤⎞⎤\n",
       "1, ⎢⎢────────────────────────────⎥⎥⎟⎥\n",
       "   ⎢⎢⎛       ___⎞ ⎛      ___    ⎞⎥⎥⎟⎥\n",
       "   ⎢⎢⎝-2 - ╲╱ 3 ⎠⋅⎝- 2⋅╲╱ 3  + 2⎠⎥⎥⎟⎥\n",
       "   ⎢⎢                            ⎥⎥⎟⎥\n",
       "   ⎢⎢             2              ⎥⎥⎟⎥\n",
       "   ⎢⎢       ─────────────        ⎥⎥⎟⎥\n",
       "   ⎢⎢             ___            ⎥⎥⎟⎥\n",
       "   ⎢⎢       - 2⋅╲╱ 3  + 2        ⎥⎥⎟⎥\n",
       "   ⎢⎢                            ⎥⎥⎟⎥\n",
       "   ⎣⎣             1              ⎦⎦⎠⎦"
      ]
     },
     "execution_count": 45,
     "metadata": {},
     "output_type": "execute_result"
    }
   ],
   "source": [
    "m = Matrix([[1,-1,0], [-1,3,-2], [0,-2,2]])\n",
    "m.eigenvects()\n",
    "#simplify(sum(i**2 for i in a))"
   ]
  },
  {
   "cell_type": "code",
   "execution_count": null,
   "metadata": {
    "collapsed": true
   },
   "outputs": [],
   "source": []
  }
 ],
 "metadata": {
  "kernelspec": {
   "display_name": "Python 3",
   "language": "python",
   "name": "python3"
  },
  "language_info": {
   "codemirror_mode": {
    "name": "ipython",
    "version": 3
   },
   "file_extension": ".py",
   "mimetype": "text/x-python",
   "name": "python",
   "nbconvert_exporter": "python",
   "pygments_lexer": "ipython3",
   "version": "3.5.1"
  }
 },
 "nbformat": 4,
 "nbformat_minor": 0
}
